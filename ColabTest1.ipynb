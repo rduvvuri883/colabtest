{
  "nbformat": 4,
  "nbformat_minor": 0,
  "metadata": {
    "colab": {
      "name": "ColabTest1",
      "provenance": [],
      "authorship_tag": "ABX9TyPz4TDboXKhHIFI3YxDHgQg",
      "include_colab_link": true
    },
    "kernelspec": {
      "name": "python3",
      "display_name": "Python 3"
    }
  },
  "cells": [
    {
      "cell_type": "markdown",
      "metadata": {
        "id": "view-in-github",
        "colab_type": "text"
      },
      "source": [
        "<a href=\"https://colab.research.google.com/github/rduvvuri883/colabtest/blob/master/ColabTest1.ipynb\" target=\"_parent\"><img src=\"https://colab.research.google.com/assets/colab-badge.svg\" alt=\"Open In Colab\"/></a>"
      ]
    },
    {
      "cell_type": "code",
      "metadata": {
        "id": "0M_nUkeaMxyI",
        "colab_type": "code",
        "colab": {}
      },
      "source": [
        ""
      ],
      "execution_count": 0,
      "outputs": []
    },
    {
      "cell_type": "code",
      "metadata": {
        "id": "af_xtYw4M0eA",
        "colab_type": "code",
        "colab": {
          "base_uri": "https://localhost:8080/",
          "height": 34
        },
        "outputId": "61e28985-8c37-4441-cd01-11e8eba99b4f"
      },
      "source": [
        "print(\"Ravi Duvvuri testing out Colab connectivity to github.\")"
      ],
      "execution_count": 4,
      "outputs": [
        {
          "output_type": "stream",
          "text": [
            "Ravi Duvvuri testing out Colab connectivity to github.\n"
          ],
          "name": "stdout"
        }
      ]
    },
    {
      "cell_type": "markdown",
      "metadata": {
        "id": "iR9ioTk8Yc1E",
        "colab_type": "text"
      },
      "source": [
        "\n",
        "![alt text](https://user-images.githubusercontent.com/58234142/73123622-d9fe8300-3f5f-11ea-9c30-c9afcdc7e4f3.JPG\n",
        ")"
      ]
    }
  ]
}